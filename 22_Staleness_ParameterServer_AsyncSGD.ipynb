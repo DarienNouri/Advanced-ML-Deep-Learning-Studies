{
 "cells": [
  {
   "cell_type": "markdown",
   "metadata": {},
   "source": [
    "# Staleness in Asynchronous SGD\n",
    "\n",
    "This notebook calculates the staleness in a Parameter-Server (PS) based Asynchronous SGD training system with two learners running at different speeds. It examines the number of weight updates between reading and updating weights for each gradient calculation.\n",
    "\n",
    "## Overview\n",
    "The key steps involve understanding the asynchronous update mechanism, calculating the staleness for each gradient, and analyzing the impact of learner speed disparity on staleness.\n",
    "\n",
    "## Procedure\n",
    "- **Asynchronous Update Mechanism**: Describe the PS-based Asynchronous SGD system with two learners.\n",
    "- **Staleness Calculation**: Compute the number of weight updates between reading and updating weights for each gradient.\n",
    "- **Impact Analysis**: Analyze how the speed difference between learners affects the staleness of gradient updates."
   ]
  },
  {
   "cell_type": "markdown",
   "metadata": {},
   "source": [
    "**Answer:**\n",
    "\n",
    "\n",
    "\n",
    "- g[L1, 1]: Staleness = 0 (Reads at 0, updates at 1, no updates in between)\n",
    "\n",
    "- g[L1, 2]: Staleness = 0 (Reads at 1, updates at 2, no updates in between)\n",
    "\n",
    "- g[L2, 1]: Staleness = 0 (Reads at 2, updates at 2.5, no updates in between)\n",
    "\n",
    "- g[L1, 3]: Staleness = 1 (Reads at 2, updates at 3, one update (g[L2, 1]) in between)\n",
    "\n",
    "- g[L1, 4]: Staleness = 0 (Reads at 3, updates at 4, no updates in between)\n",
    "\n",
    "- g[L2, 2]: Staleness = 2 (Reads at 2.5, updates at 5, two updates (g[L1, 3] and g[L1, 4]) in between)"
   ]
  }
 ],
 "metadata": {
  "language_info": {
   "name": "python"
  }
 },
 "nbformat": 4,
 "nbformat_minor": 2
}
