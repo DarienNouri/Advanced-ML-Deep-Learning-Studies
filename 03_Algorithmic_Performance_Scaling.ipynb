{
 "cells": [
  {
   "cell_type": "markdown",
   "metadata": {},
   "source": [
    "# Automated Feature Engineering\n",
    "\n",
    "This notebook demonstrates the use of AutoFeat for automated feature engineering and selection on a regression dataset. It includes interpretability discussions, feature selection, model training, and evaluation before and after feature engineering.\n",
    "\n",
    "## Overview\n",
    "The key steps involve interpreting model explainability, feature selection, model training, and evaluating the impact of generated features.\n",
    "\n",
    "## Procedure\n",
    "- **Interpretability and Model Explainability**: Discuss the necessity of model interpretability.\n",
    "- **Feature Selection**: Use `FeatureSelector` on the Diabetes dataset to determine the number of discarded features.\n",
    "- **Feature Engineering with AutoFeat**: Apply `AutoFeatRegressor` to generate new features and assess the relative change in R2 score."
   ]
  }
 ],
 "metadata": {
  "language_info": {
   "name": "python"
  }
 },
 "nbformat": 4,
 "nbformat_minor": 2
}
